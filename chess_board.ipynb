{
 "cells": [
  {
   "cell_type": "code",
   "execution_count": 5,
   "metadata": {},
   "outputs": [],
   "source": [
    "import numpy as np\n",
    "import matplotlib.pyplot as plt"
   ]
  },
  {
   "cell_type": "code",
   "execution_count": 6,
   "metadata": {},
   "outputs": [],
   "source": [
    "mtrx = np.arange(64).reshape(8,8)\n",
    "#print(mtrx)"
   ]
  },
  {
   "cell_type": "code",
   "execution_count": 21,
   "metadata": {},
   "outputs": [],
   "source": [
    "class ChessBoard:\n",
    "    white = (1, 1, 1)\n",
    "    red = (1, .2, 0)\n",
    "    blue = (.1, .1, 1)\n",
    "    red_x, red_y, blue_x, blue_y = 0, 0, 0, 0\n",
    "    \n",
    "    \n",
    "    def __init__(self):\n",
    "        self.grid = np.zeros((8,8,3))\n",
    "    \n",
    "    \n",
    "    def render(self):\n",
    "        plt.imshow(self.grid)\n",
    "            \n",
    "    \n",
    "    def add_red(self, row, col):\n",
    "        self.grid[row, col] = self.red\n",
    "        self.red_x = row\n",
    "        self.red_y = col\n",
    "    \n",
    "    \n",
    "    def add_blue(self, row, col):\n",
    "        self.grid[row, col] = self.blue\n",
    "        self.blue_x = row\n",
    "        self.blue_y = col\n",
    "    \n",
    "    def is_under_attack(self):\n",
    "        if self.red_x == self.blue_x or self.red_y == self.blue_y:\n",
    "            return True\n",
    "        elif abs(self.red_x - self.blue_x) == abs(self.red_y - self.blue_y):\n",
    "            return True\n",
    "        else:\n",
    "            return False\n",
    "    \n",
    "    def print_grid(self):\n",
    "        white = (1, 1, 1)\n",
    "\n",
    "        x_pos = 0\n",
    "        y_pos = 0\n",
    "\n",
    "        for x in range(8):\n",
    "            for y in range(4):\n",
    "                board.grid[x_pos,y_pos] = white\n",
    "                y_pos += 2\n",
    "\n",
    "            if y_pos == 8:\n",
    "                y_pos = 1\n",
    "            else:\n",
    "                y_pos = 0\n",
    "\n",
    "            x_pos += 1\n",
    "\n",
    "        "
   ]
  },
  {
   "cell_type": "code",
   "execution_count": 22,
   "metadata": {},
   "outputs": [
    {
     "name": "stdout",
     "output_type": "stream",
     "text": [
      "True\n"
     ]
    },
    {
     "data": {
      "image/png": "[encoded data removed]",
      "text/plain": [
       "<Figure size 432x288 with 1 Axes>"
      ]
     },
     "metadata": {
      "needs_background": "light"
     },
     "output_type": "display_data"
    }
   ],
   "source": [
    "board = ChessBoard()\n",
    "board.print_grid()\n",
    "board.add_blue(3, 0)\n",
    "board.add_red(2, 1)\n",
    "board.render()\n",
    "print(board.is_under_attack())"
   ]
  },
  {
   "cell_type": "code",
   "execution_count": 23,
   "metadata": {},
   "outputs": [],
   "source": [
    "def test_vertical():\n",
    "    board.add_blue(7,2)\n",
    "    board.add_red(1,2)\n",
    "    assert board.is_under_attack() == True\n",
    "    print('Under attack - vertical')\n",
    "\n",
    "def test_horizontal():\n",
    "    board.add_blue(1,5)\n",
    "    board.add_red(1,2)\n",
    "    assert board.is_under_attack() == True\n",
    "    print('Under attack - horizontal')\n",
    "    \n",
    "def test_diagonal():\n",
    "    board.add_blue(3,0)\n",
    "    board.add_red(2,1)\n",
    "    assert board.is_under_attack() == True\n",
    "    print('Under attack - diagonal')\n",
    "\n",
    "def test_no_attack():\n",
    "    board.add_blue(5,3)\n",
    "    board.add_red(6,7)\n",
    "    assert board.is_under_attack() == False\n",
    "    print('No attack - The queens are safe!')"
   ]
  },
  {
   "cell_type": "code",
   "execution_count": 24,
   "metadata": {},
   "outputs": [
    {
     "name": "stdout",
     "output_type": "stream",
     "text": [
      "Under attack - vertical\n",
      "Under attack - horizontal\n",
      "Under attack - diagonal\n",
      "No attack - The queens are safe!\n"
     ]
    }
   ],
   "source": [
    "test_vertical()\n",
    "test_horizontal()\n",
    "test_diagonal()\n",
    "test_no_attack()"
   ]
  },
  {
   "cell_type": "code",
   "execution_count": 29,
   "metadata": {},
   "outputs": [
    {
     "name": "stdout",
     "output_type": "stream",
     "text": [
      "False\n"
     ]
    },
    {
     "data": {
      "image/png": "[encoded data removed]",
      "text/plain": [
       "<Figure size 432x288 with 1 Axes>"
      ]
     },
     "metadata": {
      "needs_background": "light"
     },
     "output_type": "display_data"
    }
   ],
   "source": [
    "board = ChessBoard()\n",
    "board.print_grid()\n",
    "board.add_blue(5, 3)\n",
    "board.add_red(7, 7)\n",
    "board.render()\n",
    "print(board.is_under_attack())"
   ]
  },
  {
   "cell_type": "code",
   "execution_count": 30,
   "metadata": {},
   "outputs": [
    {
     "name": "stdout",
     "output_type": "stream",
     "text": [
      "True\n"
     ]
    },
    {
     "data": {
      "image/png": "[encoded data removed]",
      "text/plain": [
       "<Figure size 432x288 with 1 Axes>"
      ]
     },
     "metadata": {
      "needs_background": "light"
     },
     "output_type": "display_data"
    }
   ],
   "source": [
    "board = ChessBoard()\n",
    "board.print_grid()\n",
    "board.add_blue(2, 4)\n",
    "board.add_red(5, 1)\n",
    "board.render()\n",
    "print(board.is_under_attack())"
   ]
  },
  {
   "cell_type": "code",
   "execution_count": null,
   "metadata": {},
   "outputs": [],
   "source": []
  }
 ],
 "metadata": {
  "kernelspec": {
   "display_name": "Python 3.8.2 64-bit",
   "language": "python",
   "name": "python38264bit117108efc1cb4eb792ac1aaf71ea695e"
  },
  "language_info": {
   "codemirror_mode": {
    "name": "ipython",
    "version": 3
   },
   "file_extension": ".py",
   "mimetype": "text/x-python",
   "name": "python",
   "nbconvert_exporter": "python",
   "pygments_lexer": "ipython3",
   "version": "3.8.2"
  }
 },
 "nbformat": 4,
 "nbformat_minor": 4
}
